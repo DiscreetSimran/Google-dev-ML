{
 "cells": [
  {
   "cell_type": "code",
   "execution_count": 15,
   "metadata": {},
   "outputs": [],
   "source": [
    "# there are many types of classifiers like artificial neural network ,support vector machines\n",
    "# but we started with decision tree as they are very easy to read and understand\n",
    "\n",
    "\n",
    "\n",
    "\n",
    "# in this notebook we'll use iris data set .. which is a classic ML problem\n",
    "\n",
    "\n",
    "# in this you have identify different kinds of flowers based on their measurements\n",
    "# we'll be classifying our output in three categories of flowers\n",
    "\n",
    "\n",
    "# https://en.wikipedia.org/wiki/Iris_flower_data_set\n",
    "# this data set is also availaible in the sklearn library.. which is easier to import"
   ]
  },
  {
   "cell_type": "code",
   "execution_count": 16,
   "metadata": {},
   "outputs": [],
   "source": [
    "from sklearn.datasets import load_iris\n",
    "iris=load_iris()"
   ]
  },
  {
   "cell_type": "code",
   "execution_count": 17,
   "metadata": {},
   "outputs": [],
   "source": [
    "#this data set includes both the table from wikipedia and all also metadata\n",
    "# the metadata tells the name of the fetaures and the names of the different  types of flowers\n",
    "# the features and the examples themselves are contained in the \"data\"  variable\n",
    "\n",
    "\n",
    "\n",
    "# https://en.wikipedia.org/wiki/Iris_flower_data_set"
   ]
  },
  {
   "cell_type": "code",
   "execution_count": 18,
   "metadata": {},
   "outputs": [
    {
     "name": "stdout",
     "output_type": "stream",
     "text": [
      "['sepal length (cm)', 'sepal width (cm)', 'petal length (cm)', 'petal width (cm)']\n"
     ]
    }
   ],
   "source": [
    "print(iris.feature_names)"
   ]
  },
  {
   "cell_type": "code",
   "execution_count": 19,
   "metadata": {},
   "outputs": [
    {
     "name": "stdout",
     "output_type": "stream",
     "text": [
      "['setosa' 'versicolor' 'virginica']\n"
     ]
    }
   ],
   "source": [
    "print(iris.target_names)\n",
    "\n",
    "\n",
    "\n",
    "\n",
    "# these are the 3 species of the flower , in the output"
   ]
  },
  {
   "cell_type": "code",
   "execution_count": 20,
   "metadata": {},
   "outputs": [
    {
     "name": "stdout",
     "output_type": "stream",
     "text": [
      "[5.1 3.5 1.4 0.2]\n"
     ]
    }
   ],
   "source": [
    "print(iris.data[0])\n",
    "\n",
    "\n",
    "\n",
    "# 5.1 is sepal length and 3.5 is sepal width ..and so on"
   ]
  },
  {
   "cell_type": "code",
   "execution_count": 21,
   "metadata": {},
   "outputs": [
    {
     "name": "stdout",
     "output_type": "stream",
     "text": [
      "0\n"
     ]
    }
   ],
   "source": [
    "print(iris.target[0])\n",
    "\n",
    "\n",
    "# label 0 means it's setosa and 1 means versicolor and 2 is virginica"
   ]
  },
  {
   "cell_type": "code",
   "execution_count": 23,
   "metadata": {},
   "outputs": [
    {
     "name": "stdout",
     "output_type": "stream",
     "text": [
      "2\n"
     ]
    }
   ],
   "source": [
    "print(iris.target[116])"
   ]
  },
  {
   "cell_type": "code",
   "execution_count": 26,
   "metadata": {},
   "outputs": [
    {
     "name": "stdout",
     "output_type": "stream",
     "text": [
      "example : %d label: %s features: %s 1 0 [4.9 3.  1.4 0.2]\n",
      "example : %d label: %s features: %s 2 0 [4.7 3.2 1.3 0.2]\n",
      "example : %d label: %s features: %s 3 0 [4.6 3.1 1.5 0.2]\n",
      "example : %d label: %s features: %s 4 0 [5.  3.6 1.4 0.2]\n",
      "example : %d label: %s features: %s 5 0 [5.4 3.9 1.7 0.4]\n",
      "example : %d label: %s features: %s 6 0 [4.6 3.4 1.4 0.3]\n",
      "example : %d label: %s features: %s 7 0 [5.  3.4 1.5 0.2]\n",
      "example : %d label: %s features: %s 8 0 [4.4 2.9 1.4 0.2]\n",
      "example : %d label: %s features: %s 9 0 [4.9 3.1 1.5 0.1]\n",
      "example : %d label: %s features: %s 10 0 [5.4 3.7 1.5 0.2]\n",
      "example : %d label: %s features: %s 11 0 [4.8 3.4 1.6 0.2]\n",
      "example : %d label: %s features: %s 12 0 [4.8 3.  1.4 0.1]\n",
      "example : %d label: %s features: %s 13 0 [4.3 3.  1.1 0.1]\n",
      "example : %d label: %s features: %s 14 0 [5.8 4.  1.2 0.2]\n",
      "example : %d label: %s features: %s 15 0 [5.7 4.4 1.5 0.4]\n",
      "example : %d label: %s features: %s 16 0 [5.4 3.9 1.3 0.4]\n",
      "example : %d label: %s features: %s 17 0 [5.1 3.5 1.4 0.3]\n",
      "example : %d label: %s features: %s 18 0 [5.7 3.8 1.7 0.3]\n",
      "example : %d label: %s features: %s 19 0 [5.1 3.8 1.5 0.3]\n",
      "example : %d label: %s features: %s 20 0 [5.4 3.4 1.7 0.2]\n",
      "example : %d label: %s features: %s 21 0 [5.1 3.7 1.5 0.4]\n",
      "example : %d label: %s features: %s 22 0 [4.6 3.6 1.  0.2]\n",
      "example : %d label: %s features: %s 23 0 [5.1 3.3 1.7 0.5]\n",
      "example : %d label: %s features: %s 24 0 [4.8 3.4 1.9 0.2]\n",
      "example : %d label: %s features: %s 25 0 [5.  3.  1.6 0.2]\n",
      "example : %d label: %s features: %s 26 0 [5.  3.4 1.6 0.4]\n",
      "example : %d label: %s features: %s 27 0 [5.2 3.5 1.5 0.2]\n",
      "example : %d label: %s features: %s 28 0 [5.2 3.4 1.4 0.2]\n",
      "example : %d label: %s features: %s 29 0 [4.7 3.2 1.6 0.2]\n",
      "example : %d label: %s features: %s 30 0 [4.8 3.1 1.6 0.2]\n",
      "example : %d label: %s features: %s 31 0 [5.4 3.4 1.5 0.4]\n",
      "example : %d label: %s features: %s 32 0 [5.2 4.1 1.5 0.1]\n",
      "example : %d label: %s features: %s 33 0 [5.5 4.2 1.4 0.2]\n",
      "example : %d label: %s features: %s 34 0 [4.9 3.1 1.5 0.1]\n",
      "example : %d label: %s features: %s 35 0 [5.  3.2 1.2 0.2]\n",
      "example : %d label: %s features: %s 36 0 [5.5 3.5 1.3 0.2]\n",
      "example : %d label: %s features: %s 37 0 [4.9 3.1 1.5 0.1]\n",
      "example : %d label: %s features: %s 38 0 [4.4 3.  1.3 0.2]\n",
      "example : %d label: %s features: %s 39 0 [5.1 3.4 1.5 0.2]\n",
      "example : %d label: %s features: %s 40 0 [5.  3.5 1.3 0.3]\n",
      "example : %d label: %s features: %s 41 0 [4.5 2.3 1.3 0.3]\n",
      "example : %d label: %s features: %s 42 0 [4.4 3.2 1.3 0.2]\n",
      "example : %d label: %s features: %s 43 0 [5.  3.5 1.6 0.6]\n",
      "example : %d label: %s features: %s 44 0 [5.1 3.8 1.9 0.4]\n",
      "example : %d label: %s features: %s 45 0 [4.8 3.  1.4 0.3]\n",
      "example : %d label: %s features: %s 46 0 [5.1 3.8 1.6 0.2]\n",
      "example : %d label: %s features: %s 47 0 [4.6 3.2 1.4 0.2]\n",
      "example : %d label: %s features: %s 48 0 [5.3 3.7 1.5 0.2]\n",
      "example : %d label: %s features: %s 49 0 [5.  3.3 1.4 0.2]\n",
      "example : %d label: %s features: %s 50 1 [7.  3.2 4.7 1.4]\n",
      "example : %d label: %s features: %s 51 1 [6.4 3.2 4.5 1.5]\n",
      "example : %d label: %s features: %s 52 1 [6.9 3.1 4.9 1.5]\n",
      "example : %d label: %s features: %s 53 1 [5.5 2.3 4.  1.3]\n",
      "example : %d label: %s features: %s 54 1 [6.5 2.8 4.6 1.5]\n",
      "example : %d label: %s features: %s 55 1 [5.7 2.8 4.5 1.3]\n",
      "example : %d label: %s features: %s 56 1 [6.3 3.3 4.7 1.6]\n",
      "example : %d label: %s features: %s 57 1 [4.9 2.4 3.3 1. ]\n",
      "example : %d label: %s features: %s 58 1 [6.6 2.9 4.6 1.3]\n",
      "example : %d label: %s features: %s 59 1 [5.2 2.7 3.9 1.4]\n",
      "example : %d label: %s features: %s 60 1 [5.  2.  3.5 1. ]\n",
      "example : %d label: %s features: %s 61 1 [5.9 3.  4.2 1.5]\n",
      "example : %d label: %s features: %s 62 1 [6.  2.2 4.  1. ]\n",
      "example : %d label: %s features: %s 63 1 [6.1 2.9 4.7 1.4]\n",
      "example : %d label: %s features: %s 64 1 [5.6 2.9 3.6 1.3]\n",
      "example : %d label: %s features: %s 65 1 [6.7 3.1 4.4 1.4]\n",
      "example : %d label: %s features: %s 66 1 [5.6 3.  4.5 1.5]\n",
      "example : %d label: %s features: %s 67 1 [5.8 2.7 4.1 1. ]\n",
      "example : %d label: %s features: %s 68 1 [6.2 2.2 4.5 1.5]\n",
      "example : %d label: %s features: %s 69 1 [5.6 2.5 3.9 1.1]\n",
      "example : %d label: %s features: %s 70 1 [5.9 3.2 4.8 1.8]\n",
      "example : %d label: %s features: %s 71 1 [6.1 2.8 4.  1.3]\n",
      "example : %d label: %s features: %s 72 1 [6.3 2.5 4.9 1.5]\n",
      "example : %d label: %s features: %s 73 1 [6.1 2.8 4.7 1.2]\n",
      "example : %d label: %s features: %s 74 1 [6.4 2.9 4.3 1.3]\n",
      "example : %d label: %s features: %s 75 1 [6.6 3.  4.4 1.4]\n",
      "example : %d label: %s features: %s 76 1 [6.8 2.8 4.8 1.4]\n",
      "example : %d label: %s features: %s 77 1 [6.7 3.  5.  1.7]\n",
      "example : %d label: %s features: %s 78 1 [6.  2.9 4.5 1.5]\n",
      "example : %d label: %s features: %s 79 1 [5.7 2.6 3.5 1. ]\n",
      "example : %d label: %s features: %s 80 1 [5.5 2.4 3.8 1.1]\n",
      "example : %d label: %s features: %s 81 1 [5.5 2.4 3.7 1. ]\n",
      "example : %d label: %s features: %s 82 1 [5.8 2.7 3.9 1.2]\n",
      "example : %d label: %s features: %s 83 1 [6.  2.7 5.1 1.6]\n",
      "example : %d label: %s features: %s 84 1 [5.4 3.  4.5 1.5]\n",
      "example : %d label: %s features: %s 85 1 [6.  3.4 4.5 1.6]\n",
      "example : %d label: %s features: %s 86 1 [6.7 3.1 4.7 1.5]\n",
      "example : %d label: %s features: %s 87 1 [6.3 2.3 4.4 1.3]\n",
      "example : %d label: %s features: %s 88 1 [5.6 3.  4.1 1.3]\n",
      "example : %d label: %s features: %s 89 1 [5.5 2.5 4.  1.3]\n",
      "example : %d label: %s features: %s 90 1 [5.5 2.6 4.4 1.2]\n",
      "example : %d label: %s features: %s 91 1 [6.1 3.  4.6 1.4]\n",
      "example : %d label: %s features: %s 92 1 [5.8 2.6 4.  1.2]\n",
      "example : %d label: %s features: %s 93 1 [5.  2.3 3.3 1. ]\n",
      "example : %d label: %s features: %s 94 1 [5.6 2.7 4.2 1.3]\n",
      "example : %d label: %s features: %s 95 1 [5.7 3.  4.2 1.2]\n",
      "example : %d label: %s features: %s 96 1 [5.7 2.9 4.2 1.3]\n",
      "example : %d label: %s features: %s 97 1 [6.2 2.9 4.3 1.3]\n",
      "example : %d label: %s features: %s 98 1 [5.1 2.5 3.  1.1]\n",
      "example : %d label: %s features: %s 99 1 [5.7 2.8 4.1 1.3]\n",
      "example : %d label: %s features: %s 100 2 [6.3 3.3 6.  2.5]\n",
      "example : %d label: %s features: %s 101 2 [5.8 2.7 5.1 1.9]\n",
      "example : %d label: %s features: %s 102 2 [7.1 3.  5.9 2.1]\n",
      "example : %d label: %s features: %s 103 2 [6.3 2.9 5.6 1.8]\n",
      "example : %d label: %s features: %s 104 2 [6.5 3.  5.8 2.2]\n",
      "example : %d label: %s features: %s 105 2 [7.6 3.  6.6 2.1]\n",
      "example : %d label: %s features: %s 106 2 [4.9 2.5 4.5 1.7]\n",
      "example : %d label: %s features: %s 107 2 [7.3 2.9 6.3 1.8]\n",
      "example : %d label: %s features: %s 108 2 [6.7 2.5 5.8 1.8]\n",
      "example : %d label: %s features: %s 109 2 [7.2 3.6 6.1 2.5]\n",
      "example : %d label: %s features: %s 110 2 [6.5 3.2 5.1 2. ]\n",
      "example : %d label: %s features: %s 111 2 [6.4 2.7 5.3 1.9]\n",
      "example : %d label: %s features: %s 112 2 [6.8 3.  5.5 2.1]\n",
      "example : %d label: %s features: %s 113 2 [5.7 2.5 5.  2. ]\n",
      "example : %d label: %s features: %s 114 2 [5.8 2.8 5.1 2.4]\n",
      "example : %d label: %s features: %s 115 2 [6.4 3.2 5.3 2.3]\n",
      "example : %d label: %s features: %s 116 2 [6.5 3.  5.5 1.8]\n",
      "example : %d label: %s features: %s 117 2 [7.7 3.8 6.7 2.2]\n",
      "example : %d label: %s features: %s 118 2 [7.7 2.6 6.9 2.3]\n",
      "example : %d label: %s features: %s 119 2 [6.  2.2 5.  1.5]\n",
      "example : %d label: %s features: %s 120 2 [6.9 3.2 5.7 2.3]\n",
      "example : %d label: %s features: %s 121 2 [5.6 2.8 4.9 2. ]\n",
      "example : %d label: %s features: %s 122 2 [7.7 2.8 6.7 2. ]\n",
      "example : %d label: %s features: %s 123 2 [6.3 2.7 4.9 1.8]\n",
      "example : %d label: %s features: %s 124 2 [6.7 3.3 5.7 2.1]\n",
      "example : %d label: %s features: %s 125 2 [7.2 3.2 6.  1.8]\n",
      "example : %d label: %s features: %s 126 2 [6.2 2.8 4.8 1.8]\n",
      "example : %d label: %s features: %s 127 2 [6.1 3.  4.9 1.8]\n",
      "example : %d label: %s features: %s 128 2 [6.4 2.8 5.6 2.1]\n",
      "example : %d label: %s features: %s 129 2 [7.2 3.  5.8 1.6]\n",
      "example : %d label: %s features: %s 130 2 [7.4 2.8 6.1 1.9]\n",
      "example : %d label: %s features: %s 131 2 [7.9 3.8 6.4 2. ]\n",
      "example : %d label: %s features: %s 132 2 [6.4 2.8 5.6 2.2]\n",
      "example : %d label: %s features: %s 133 2 [6.3 2.8 5.1 1.5]\n",
      "example : %d label: %s features: %s 134 2 [6.1 2.6 5.6 1.4]\n",
      "example : %d label: %s features: %s 135 2 [7.7 3.  6.1 2.3]\n",
      "example : %d label: %s features: %s 136 2 [6.3 3.4 5.6 2.4]\n",
      "example : %d label: %s features: %s 137 2 [6.4 3.1 5.5 1.8]\n",
      "example : %d label: %s features: %s 138 2 [6.  3.  4.8 1.8]\n",
      "example : %d label: %s features: %s 139 2 [6.9 3.1 5.4 2.1]\n",
      "example : %d label: %s features: %s 140 2 [6.7 3.1 5.6 2.4]\n",
      "example : %d label: %s features: %s 141 2 [6.9 3.1 5.1 2.3]\n",
      "example : %d label: %s features: %s 142 2 [5.8 2.7 5.1 1.9]\n",
      "example : %d label: %s features: %s 143 2 [6.8 3.2 5.9 2.3]\n",
      "example : %d label: %s features: %s 144 2 [6.7 3.3 5.7 2.5]\n",
      "example : %d label: %s features: %s 145 2 [6.7 3.  5.2 2.3]\n",
      "example : %d label: %s features: %s 146 2 [6.3 2.5 5.  1.9]\n",
      "example : %d label: %s features: %s 147 2 [6.5 3.  5.2 2. ]\n",
      "example : %d label: %s features: %s 148 2 [6.2 3.4 5.4 2.3]\n",
      "example : %d label: %s features: %s 149 2 [5.9 3.  5.1 1.8]\n"
     ]
    }
   ],
   "source": [
    "# both the data and the target variable have a 150 entries\n",
    "# to print out the entire data set .. use iteration\n",
    "\n",
    "for i in range(1,150) :\n",
    "    print(\"example : %d label: %s features: %s\",i, iris.target[i], iris.data[i])"
   ]
  },
  {
   "cell_type": "code",
   "execution_count": 27,
   "metadata": {},
   "outputs": [],
   "source": [
    "# now we start with training the data set\n",
    "# and we'll segregate the dataset.. one is for training and the other for testing "
   ]
  },
  {
   "cell_type": "code",
   "execution_count": 30,
   "metadata": {},
   "outputs": [
    {
     "data": {
      "text/plain": [
       "DecisionTreeClassifier(class_weight=None, criterion='gini', max_depth=None,\n",
       "            max_features=None, max_leaf_nodes=None,\n",
       "            min_impurity_decrease=0.0, min_impurity_split=None,\n",
       "            min_samples_leaf=1, min_samples_split=2,\n",
       "            min_weight_fraction_leaf=0.0, presort=False, random_state=None,\n",
       "            splitter='best')"
      ]
     },
     "execution_count": 30,
     "metadata": {},
     "output_type": "execute_result"
    }
   ],
   "source": [
    "import numpy as np\n",
    "test_idx=[0,50,100]\n",
    "\n",
    "# we chose 0, 50, 100 indexes because we know that our data set is ordered .. so we can use these 3 different indexes to get \n",
    "# different target values for each .. hence we'll testing our model on 3 different ecxpected output.\n",
    "\n",
    "\n",
    "\n",
    "\n",
    "\n",
    "\n",
    "# training data \n",
    "\n",
    "train_target=np.delete(iris.target,test_idx)\n",
    "train_data=np.delete(iris.data,test_idx,axis=0)\n",
    "\n",
    "# numpy.delete(array, object, axis = None) : returns a new array with the deletion of sub-arrays along with the mentioned axis.\n",
    "\n",
    "\n",
    "\n",
    "\n",
    "\n",
    "# testing data\n",
    "\n",
    "\n",
    "test_target=iris.target[test_idx]\n",
    "test_data=iris.data[test_idx]\n",
    "\n",
    "# passing list as an argument to another function\n",
    "\n",
    "\n",
    "\n",
    "\n",
    "\n",
    "\n",
    "from sklearn import tree\n",
    "clf=tree.DecisionTreeClassifier()\n",
    "clf.fit(train_data,train_target)"
   ]
  },
  {
   "cell_type": "code",
   "execution_count": 32,
   "metadata": {},
   "outputs": [
    {
     "name": "stdout",
     "output_type": "stream",
     "text": [
      "[0 1 2]\n"
     ]
    }
   ],
   "source": [
    "print(test_target)"
   ]
  },
  {
   "cell_type": "code",
   "execution_count": 35,
   "metadata": {},
   "outputs": [
    {
     "name": "stdout",
     "output_type": "stream",
     "text": [
      "[0 1 2]\n"
     ]
    }
   ],
   "source": [
    "print(clf.predict(test_data))\n",
    "\n",
    "\n",
    "# the predicted labels match the testing labels \n",
    "# hence the output is correct"
   ]
  },
  {
   "cell_type": "code",
   "execution_count": 38,
   "metadata": {},
   "outputs": [],
   "source": []
  },
  {
   "cell_type": "code",
   "execution_count": 44,
   "metadata": {},
   "outputs": [
    {
     "ename": "AttributeError",
     "evalue": "'list' object has no attribute 'write_pdf'",
     "output_type": "error",
     "traceback": [
      "\u001b[1;31m---------------------------------------------------------------------------\u001b[0m",
      "\u001b[1;31mAttributeError\u001b[0m                            Traceback (most recent call last)",
      "\u001b[1;32m<ipython-input-44-40fb0ffb4308>\u001b[0m in \u001b[0;36m<module>\u001b[1;34m()\u001b[0m\n\u001b[0;32m     13\u001b[0m                     impurity =False)\n\u001b[0;32m     14\u001b[0m \u001b[0mgraph\u001b[0m\u001b[1;33m=\u001b[0m\u001b[0mpydot\u001b[0m\u001b[1;33m.\u001b[0m\u001b[0mgraph_from_dot_data\u001b[0m\u001b[1;33m(\u001b[0m\u001b[0mdot_data\u001b[0m\u001b[1;33m.\u001b[0m\u001b[0mgetvalue\u001b[0m\u001b[1;33m(\u001b[0m\u001b[1;33m)\u001b[0m\u001b[1;33m)\u001b[0m\u001b[1;33m\u001b[0m\u001b[0m\n\u001b[1;32m---> 15\u001b[1;33m \u001b[0mgraph\u001b[0m\u001b[1;33m.\u001b[0m\u001b[0mwrite_pdf\u001b[0m\u001b[1;33m(\u001b[0m\u001b[1;34m\"iris.pdf\"\u001b[0m\u001b[1;33m)\u001b[0m\u001b[1;33m\u001b[0m\u001b[0m\n\u001b[0m",
      "\u001b[1;31mAttributeError\u001b[0m: 'list' object has no attribute 'write_pdf'"
     ]
    }
   ],
   "source": [
    "# visualizing the decision tree so as to understand the working .. and more so over decision tree is a interpretable classifier\n",
    "# not a part of machine learning\n",
    "\n",
    "\n",
    "from sklearn.externals.six import StringIO\n",
    "import pydot\n",
    "dot_data=StringIO()\n",
    "tree.export_graphviz(clf,\n",
    "                    out_file=dot_data,\n",
    "                    feature_names=iris.feature_names,\n",
    "                    class_names=iris.target_names,\n",
    "                    filled=True , rounded =True,\n",
    "                    impurity =False)\n",
    "graph=pydot.graph_from_dot_data(dot_data.getvalue())\n",
    "graph.write_pdf(\"iris.pdf\")"
   ]
  },
  {
   "cell_type": "code",
   "execution_count": null,
   "metadata": {},
   "outputs": [],
   "source": []
  }
 ],
 "metadata": {
  "kernelspec": {
   "display_name": "Python 3",
   "language": "python",
   "name": "python3"
  },
  "language_info": {
   "codemirror_mode": {
    "name": "ipython",
    "version": 3
   },
   "file_extension": ".py",
   "mimetype": "text/x-python",
   "name": "python",
   "nbconvert_exporter": "python",
   "pygments_lexer": "ipython3",
   "version": "3.6.5"
  }
 },
 "nbformat": 4,
 "nbformat_minor": 2
}
