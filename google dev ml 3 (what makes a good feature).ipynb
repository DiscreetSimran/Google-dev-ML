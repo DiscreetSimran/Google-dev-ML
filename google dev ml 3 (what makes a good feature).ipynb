{
 "cells": [
  {
   "cell_type": "code",
   "execution_count": 7,
   "metadata": {},
   "outputs": [],
   "source": [
    "# classifiers are only as good as the features provided to them \n",
    "# if it's a binary classification the the feature which tells the most difference between the two targets is better\n",
    "\n",
    "\n",
    "# here now we will classify greyhounds and labradors\n",
    "# we will be using 2 features :- dog's height and eye color\n",
    "\n",
    "\n",
    "# just for this toy example we will make 2 assumptions\n",
    "# 1st :-  greyhounds are usually taller than labradors\n",
    "# 2nd :- dogs have only 2 eye colors which are blue and brown and the color of their eye doesn't depend on the breed of the dog\n",
    "\n",
    "\n",
    "# this means that one of the feature will be useful and the other tells us nothing\n",
    "\n",
    "\n",
    "# discussing the usefulness of the features :=\n",
    "# height :- greyhounds tend to be taller than labradors but not always\n"
   ]
  },
  {
   "cell_type": "code",
   "execution_count": 8,
   "metadata": {},
   "outputs": [],
   "source": [
    "import numpy as np\n",
    "import matplotlib.pyplot as plt\n",
    "\n",
    "\n",
    "# we'll be creating our own data set"
   ]
  },
  {
   "cell_type": "code",
   "execution_count": 9,
   "metadata": {},
   "outputs": [],
   "source": [
    "# creating a population of a 1000 dogs .. half of greyhound and half of greyhounds\n",
    "\n",
    "greyhounds=500\n",
    "labs=500\n",
    "\n",
    "\n",
    "\n",
    "# assisgning average height to each of the dog category\n",
    "# avg height of grey is 24 and that of labrador is 28 .. but all dogs are different so let's say height is normally distributed\n",
    "# so we'll make both the heights +/- 4 inches \n",
    "\n",
    "\n",
    "grey_height=28+4* np.random.randn(greyhounds)\n",
    "lab_height=24+4* np.random.randn(labs)\n",
    "\n",
    "\n",
    "# this will give us two arrays of numbers"
   ]
  },
  {
   "cell_type": "code",
   "execution_count": 10,
   "metadata": {},
   "outputs": [
    {
     "data": {
      "image/png": "[encoded data removed]",
      "text/plain": [
       "<Figure size 432x288 with 1 Axes>"
      ]
     },
     "metadata": {},
     "output_type": "display_data"
    }
   ],
   "source": [
    "# we can visualize the two arrays created just above by an histogram\n",
    "# the last parameter added in so to makes the greyhounds in red and labrador in blue\n",
    "\n",
    "plt.hist([grey_height,lab_height],stacked =True,color=['r','b'])\n",
    "plt.show()"
   ]
  },
  {
   "cell_type": "code",
   "execution_count": 11,
   "metadata": {},
   "outputs": [],
   "source": [
    "# this shows how many dogs in our population have a given height\n",
    "# from the graph it's clear that the left part of x axis which is lesser height is blue which is lab and greater height is grey\n",
    "# which is correct from our previous assumption saying that grey are taller than labs\n",
    "\n",
    "# but for the dog in the middle , the graph gives us less information as the probability of both the dogs is close\n",
    "\n",
    "\n",
    "# which means height is a useful feature but not sufficient \n",
    "# that's why in machine learning you almost always need multiple features  because otherwise you can just write an \"if\" statement\n",
    "# instead of a classifier\n",
    "\n",
    "\n",
    "# when choosing the number of features to be used , think how much info (what all features) you'll need to solve the problem \n",
    "# for example in this you might need the dog's hairline or how fast they can run or weight\n",
    "\n",
    "\n",
    "# exactly how many features you should be choosing is more an art than science \n",
    "# but as a rule of thumb, think of how many you'll be needing to solve\n",
    "\n",
    "\n",
    "\n",
    "# in the case of eye color \n",
    "# because the eye color doesn't depend on the breed of the dog\n",
    "#the histogram would be 50-50 for almost all values & hence no info\n",
    "\n",
    "\n",
    "\n",
    "# avoiding these kinds of useless features is necessary especially if you have less training data they can appear useful\n",
    "# & alter the accuracy\n",
    "\n",
    "\n",
    "\n",
    "# having independent features is important ... that means remove highly co realted features like height in cm and also in inches\n",
    "# besides most classifiers aren't smart enough to realize that\n",
    "\n",
    "\n",
    "# the faetures hsould also be easy to understand \n",
    "# for ex:-  predicting how much time will it take to mail a letter from a city to a different city \n",
    "# logical and easy feature would be distance \n",
    "# complex feature would be the cities' loaction (lattitude & lattitude) \n",
    "# because then  we ould have to study relation b/w time and location which is harder "
   ]
  },
  {
   "cell_type": "code",
   "execution_count": null,
   "metadata": {},
   "outputs": [],
   "source": []
  }
 ],
 "metadata": {
  "kernelspec": {
   "display_name": "Python 3",
   "language": "python",
   "name": "python3"
  },
  "language_info": {
   "codemirror_mode": {
    "name": "ipython",
    "version": 3
   },
   "file_extension": ".py",
   "mimetype": "text/x-python",
   "name": "python",
   "nbconvert_exporter": "python",
   "pygments_lexer": "ipython3",
   "version": "3.6.5"
  }
 },
 "nbformat": 4,
 "nbformat_minor": 2
}
