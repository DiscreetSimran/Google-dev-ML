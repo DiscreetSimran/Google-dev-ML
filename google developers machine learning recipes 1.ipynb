{
 "cells": [
  {
   "cell_type": "code",
   "execution_count": 11,
   "metadata": {},
   "outputs": [],
   "source": [
    "import sklearn"
   ]
  },
  {
   "cell_type": "code",
   "execution_count": 12,
   "metadata": {},
   "outputs": [],
   "source": [
    "# we are classifying apples and oranges based on the data we'll define in the code itself\n",
    "# 0 is for bumpy and 1 is for smooth in the feature set \n",
    "# in the label set 0 is for apple and 1 for oranges\n",
    "\n",
    "\n",
    "features=[[140,1],[130,1],[150,0],[170,1]]\n",
    "labels=[0,0,1,1]"
   ]
  },
  {
   "cell_type": "code",
   "execution_count": 13,
   "metadata": {},
   "outputs": [],
   "source": [
    "# this is a classification problem and so we need to choose the type of the classifier which we'll use for our model\n",
    "#the type of the classifier we'll start with is decision tree\n",
    "\n",
    "\n",
    "# importing the tree\n",
    "\n",
    "\n",
    "from sklearn import tree"
   ]
  },
  {
   "cell_type": "code",
   "execution_count": 14,
   "metadata": {},
   "outputs": [],
   "source": [
    "# creating the classifier\n",
    "\n",
    "\n",
    "clf=tree.DecisionTreeClassifier()"
   ]
  },
  {
   "cell_type": "code",
   "execution_count": 15,
   "metadata": {},
   "outputs": [],
   "source": [
    "# right now our classifier doesn't know how to tell the difference between apples and oranges .. we need a learning algorithm\n",
    "# in scikit the training algorithm is included in the classifier object and its called fit\n",
    "\n",
    "\n",
    "clf=clf.fit(features,labels)\n",
    "\n",
    "\n",
    "\n",
    "# fit can be seen as a synonym for finding the patterns in the data\n",
    "# now our classifier is trained "
   ]
  },
  {
   "cell_type": "code",
   "execution_count": 16,
   "metadata": {},
   "outputs": [
    {
     "name": "stdout",
     "output_type": "stream",
     "text": [
      "[1]\n"
     ]
    }
   ],
   "source": [
    "# now we are testing .. let's say our input for test exmaple is .. weight is 150 and the fruit is bumpy \n",
    "\n",
    "\n",
    "print(clf.predict([[150,0]]))"
   ]
  },
  {
   "cell_type": "code",
   "execution_count": 17,
   "metadata": {},
   "outputs": [
    {
     "name": "stdout",
     "output_type": "stream",
     "text": [
      "[1]\n"
     ]
    }
   ],
   "source": [
    "print(clf.predict([[154,0]]))"
   ]
  },
  {
   "cell_type": "code",
   "execution_count": 18,
   "metadata": {},
   "outputs": [
    {
     "name": "stdout",
     "output_type": "stream",
     "text": [
      "[0]\n"
     ]
    }
   ],
   "source": [
    "print(clf.predict([[65,1]]))"
   ]
  },
  {
   "cell_type": "code",
   "execution_count": null,
   "metadata": {},
   "outputs": [],
   "source": []
  }
 ],
 "metadata": {
  "kernelspec": {
   "display_name": "Python 3",
   "language": "python",
   "name": "python3"
  },
  "language_info": {
   "codemirror_mode": {
    "name": "ipython",
    "version": 3
   },
   "file_extension": ".py",
   "mimetype": "text/x-python",
   "name": "python",
   "nbconvert_exporter": "python",
   "pygments_lexer": "ipython3",
   "version": "3.6.5"
  }
 },
 "nbformat": 4,
 "nbformat_minor": 2
}
